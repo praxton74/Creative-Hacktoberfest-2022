{
 "cells": [
  {
   "cell_type": "code",
   "execution_count": 3,
   "metadata": {
    "executionInfo": {
     "elapsed": 379,
     "status": "ok",
     "timestamp": 1655895020872,
     "user": {
      "displayName": "Abhinav Tripathi",
      "userId": "10919703484646172246"
     },
     "user_tz": -330
    },
    "id": "chAFUgztAw7o"
   },
   "outputs": [],
   "source": [
    "import pandas as pd\n",
    "from sklearn.model_selection import train_test_split"
   ]
  },
  {
   "cell_type": "code",
   "execution_count": 4,
   "metadata": {
    "colab": {
     "base_uri": "https://localhost:8080/",
     "height": 206
    },
    "executionInfo": {
     "elapsed": 424,
     "status": "ok",
     "timestamp": 1655895023642,
     "user": {
      "displayName": "Abhinav Tripathi",
      "userId": "10919703484646172246"
     },
     "user_tz": -330
    },
    "id": "bRMqEWx1BWt0",
    "outputId": "d5594593-d7f0-490a-9708-c977278ee1e7"
   },
   "outputs": [
    {
     "data": {
      "text/html": [
       "<div>\n",
       "<style scoped>\n",
       "    .dataframe tbody tr th:only-of-type {\n",
       "        vertical-align: middle;\n",
       "    }\n",
       "\n",
       "    .dataframe tbody tr th {\n",
       "        vertical-align: top;\n",
       "    }\n",
       "\n",
       "    .dataframe thead th {\n",
       "        text-align: right;\n",
       "    }\n",
       "</style>\n",
       "<table border=\"1\" class=\"dataframe\">\n",
       "  <thead>\n",
       "    <tr style=\"text-align: right;\">\n",
       "      <th></th>\n",
       "      <th>Pregnancies</th>\n",
       "      <th>Glucose</th>\n",
       "      <th>BloodPressure</th>\n",
       "      <th>SkinThickness</th>\n",
       "      <th>Insulin</th>\n",
       "      <th>BMI</th>\n",
       "      <th>DiabetesPedigreeFunction</th>\n",
       "      <th>Age</th>\n",
       "      <th>Outcome</th>\n",
       "    </tr>\n",
       "  </thead>\n",
       "  <tbody>\n",
       "    <tr>\n",
       "      <th>0</th>\n",
       "      <td>6</td>\n",
       "      <td>148</td>\n",
       "      <td>72</td>\n",
       "      <td>35</td>\n",
       "      <td>0</td>\n",
       "      <td>33.6</td>\n",
       "      <td>0.627</td>\n",
       "      <td>50</td>\n",
       "      <td>1</td>\n",
       "    </tr>\n",
       "    <tr>\n",
       "      <th>1</th>\n",
       "      <td>1</td>\n",
       "      <td>85</td>\n",
       "      <td>66</td>\n",
       "      <td>29</td>\n",
       "      <td>0</td>\n",
       "      <td>26.6</td>\n",
       "      <td>0.351</td>\n",
       "      <td>31</td>\n",
       "      <td>0</td>\n",
       "    </tr>\n",
       "    <tr>\n",
       "      <th>2</th>\n",
       "      <td>8</td>\n",
       "      <td>183</td>\n",
       "      <td>64</td>\n",
       "      <td>0</td>\n",
       "      <td>0</td>\n",
       "      <td>23.3</td>\n",
       "      <td>0.672</td>\n",
       "      <td>32</td>\n",
       "      <td>1</td>\n",
       "    </tr>\n",
       "    <tr>\n",
       "      <th>3</th>\n",
       "      <td>1</td>\n",
       "      <td>89</td>\n",
       "      <td>66</td>\n",
       "      <td>23</td>\n",
       "      <td>94</td>\n",
       "      <td>28.1</td>\n",
       "      <td>0.167</td>\n",
       "      <td>21</td>\n",
       "      <td>0</td>\n",
       "    </tr>\n",
       "    <tr>\n",
       "      <th>4</th>\n",
       "      <td>0</td>\n",
       "      <td>137</td>\n",
       "      <td>40</td>\n",
       "      <td>35</td>\n",
       "      <td>168</td>\n",
       "      <td>43.1</td>\n",
       "      <td>2.288</td>\n",
       "      <td>33</td>\n",
       "      <td>1</td>\n",
       "    </tr>\n",
       "  </tbody>\n",
       "</table>\n",
       "</div>"
      ],
      "text/plain": [
       "   Pregnancies  Glucose  BloodPressure  SkinThickness  Insulin   BMI  \\\n",
       "0            6      148             72             35        0  33.6   \n",
       "1            1       85             66             29        0  26.6   \n",
       "2            8      183             64              0        0  23.3   \n",
       "3            1       89             66             23       94  28.1   \n",
       "4            0      137             40             35      168  43.1   \n",
       "\n",
       "   DiabetesPedigreeFunction  Age  Outcome  \n",
       "0                     0.627   50        1  \n",
       "1                     0.351   31        0  \n",
       "2                     0.672   32        1  \n",
       "3                     0.167   21        0  \n",
       "4                     2.288   33        1  "
      ]
     },
     "execution_count": 4,
     "metadata": {},
     "output_type": "execute_result"
    }
   ],
   "source": [
    "df = pd.read_csv(\"diabetes.csv\")\n",
    "df.head()"
   ]
  },
  {
   "cell_type": "code",
   "execution_count": 5,
   "metadata": {
    "executionInfo": {
     "elapsed": 5,
     "status": "ok",
     "timestamp": 1655895025874,
     "user": {
      "displayName": "Abhinav Tripathi",
      "userId": "10919703484646172246"
     },
     "user_tz": -330
    },
    "id": "an0CWcpiBW9p"
   },
   "outputs": [],
   "source": [
    "feature_cols = ['Pregnancies', 'Glucose', 'BloodPressure', 'SkinThickness','Insulin','BMI','DiabetesPedigreeFunction','Age']\n",
    "X = df[feature_cols] # Features\n",
    "y = df.Outcome # Target variable"
   ]
  },
  {
   "cell_type": "code",
   "execution_count": 6,
   "metadata": {
    "executionInfo": {
     "elapsed": 5,
     "status": "ok",
     "timestamp": 1655895027636,
     "user": {
      "displayName": "Abhinav Tripathi",
      "userId": "10919703484646172246"
     },
     "user_tz": -330
    },
    "id": "G9aMKHJbBXHT"
   },
   "outputs": [],
   "source": [
    "X_train, X_test, y_train, y_test = train_test_split(X,y,train_size=0.5)"
   ]
  },
  {
   "cell_type": "code",
   "execution_count": 10,
   "metadata": {
    "executionInfo": {
     "elapsed": 7,
     "status": "ok",
     "timestamp": 1655895028810,
     "user": {
      "displayName": "Abhinav Tripathi",
      "userId": "10919703484646172246"
     },
     "user_tz": -330
    },
    "id": "Lw8uKXMTBj2g"
   },
   "outputs": [],
   "source": [
    "from sklearn.linear_model import LinearRegression\n",
    "model = LinearRegression()"
   ]
  },
  {
   "cell_type": "code",
   "execution_count": 11,
   "metadata": {
    "colab": {
     "base_uri": "https://localhost:8080/"
    },
    "executionInfo": {
     "elapsed": 10,
     "status": "ok",
     "timestamp": 1655895030910,
     "user": {
      "displayName": "Abhinav Tripathi",
      "userId": "10919703484646172246"
     },
     "user_tz": -330
    },
    "id": "rmApvQTbBj9k",
    "outputId": "c139576a-2216-4693-b61d-1587575c4b51"
   },
   "outputs": [
    {
     "data": {
      "text/html": [
       "<style>#sk-container-id-1 {color: black;background-color: white;}#sk-container-id-1 pre{padding: 0;}#sk-container-id-1 div.sk-toggleable {background-color: white;}#sk-container-id-1 label.sk-toggleable__label {cursor: pointer;display: block;width: 100%;margin-bottom: 0;padding: 0.3em;box-sizing: border-box;text-align: center;}#sk-container-id-1 label.sk-toggleable__label-arrow:before {content: \"▸\";float: left;margin-right: 0.25em;color: #696969;}#sk-container-id-1 label.sk-toggleable__label-arrow:hover:before {color: black;}#sk-container-id-1 div.sk-estimator:hover label.sk-toggleable__label-arrow:before {color: black;}#sk-container-id-1 div.sk-toggleable__content {max-height: 0;max-width: 0;overflow: hidden;text-align: left;background-color: #f0f8ff;}#sk-container-id-1 div.sk-toggleable__content pre {margin: 0.2em;color: black;border-radius: 0.25em;background-color: #f0f8ff;}#sk-container-id-1 input.sk-toggleable__control:checked~div.sk-toggleable__content {max-height: 200px;max-width: 100%;overflow: auto;}#sk-container-id-1 input.sk-toggleable__control:checked~label.sk-toggleable__label-arrow:before {content: \"▾\";}#sk-container-id-1 div.sk-estimator input.sk-toggleable__control:checked~label.sk-toggleable__label {background-color: #d4ebff;}#sk-container-id-1 div.sk-label input.sk-toggleable__control:checked~label.sk-toggleable__label {background-color: #d4ebff;}#sk-container-id-1 input.sk-hidden--visually {border: 0;clip: rect(1px 1px 1px 1px);clip: rect(1px, 1px, 1px, 1px);height: 1px;margin: -1px;overflow: hidden;padding: 0;position: absolute;width: 1px;}#sk-container-id-1 div.sk-estimator {font-family: monospace;background-color: #f0f8ff;border: 1px dotted black;border-radius: 0.25em;box-sizing: border-box;margin-bottom: 0.5em;}#sk-container-id-1 div.sk-estimator:hover {background-color: #d4ebff;}#sk-container-id-1 div.sk-parallel-item::after {content: \"\";width: 100%;border-bottom: 1px solid gray;flex-grow: 1;}#sk-container-id-1 div.sk-label:hover label.sk-toggleable__label {background-color: #d4ebff;}#sk-container-id-1 div.sk-serial::before {content: \"\";position: absolute;border-left: 1px solid gray;box-sizing: border-box;top: 0;bottom: 0;left: 50%;z-index: 0;}#sk-container-id-1 div.sk-serial {display: flex;flex-direction: column;align-items: center;background-color: white;padding-right: 0.2em;padding-left: 0.2em;position: relative;}#sk-container-id-1 div.sk-item {position: relative;z-index: 1;}#sk-container-id-1 div.sk-parallel {display: flex;align-items: stretch;justify-content: center;background-color: white;position: relative;}#sk-container-id-1 div.sk-item::before, #sk-container-id-1 div.sk-parallel-item::before {content: \"\";position: absolute;border-left: 1px solid gray;box-sizing: border-box;top: 0;bottom: 0;left: 50%;z-index: -1;}#sk-container-id-1 div.sk-parallel-item {display: flex;flex-direction: column;z-index: 1;position: relative;background-color: white;}#sk-container-id-1 div.sk-parallel-item:first-child::after {align-self: flex-end;width: 50%;}#sk-container-id-1 div.sk-parallel-item:last-child::after {align-self: flex-start;width: 50%;}#sk-container-id-1 div.sk-parallel-item:only-child::after {width: 0;}#sk-container-id-1 div.sk-dashed-wrapped {border: 1px dashed gray;margin: 0 0.4em 0.5em 0.4em;box-sizing: border-box;padding-bottom: 0.4em;background-color: white;}#sk-container-id-1 div.sk-label label {font-family: monospace;font-weight: bold;display: inline-block;line-height: 1.2em;}#sk-container-id-1 div.sk-label-container {text-align: center;}#sk-container-id-1 div.sk-container {/* jupyter's `normalize.less` sets `[hidden] { display: none; }` but bootstrap.min.css set `[hidden] { display: none !important; }` so we also need the `!important` here to be able to override the default hidden behavior on the sphinx rendered scikit-learn.org. See: https://github.com/scikit-learn/scikit-learn/issues/21755 */display: inline-block !important;position: relative;}#sk-container-id-1 div.sk-text-repr-fallback {display: none;}</style><div id=\"sk-container-id-1\" class=\"sk-top-container\"><div class=\"sk-text-repr-fallback\"><pre>LinearRegression()</pre><b>In a Jupyter environment, please rerun this cell to show the HTML representation or trust the notebook. <br />On GitHub, the HTML representation is unable to render, please try loading this page with nbviewer.org.</b></div><div class=\"sk-container\" hidden><div class=\"sk-item\"><div class=\"sk-estimator sk-toggleable\"><input class=\"sk-toggleable__control sk-hidden--visually\" id=\"sk-estimator-id-1\" type=\"checkbox\" checked><label for=\"sk-estimator-id-1\" class=\"sk-toggleable__label sk-toggleable__label-arrow\">LinearRegression</label><div class=\"sk-toggleable__content\"><pre>LinearRegression()</pre></div></div></div></div></div>"
      ],
      "text/plain": [
       "LinearRegression()"
      ]
     },
     "execution_count": 11,
     "metadata": {},
     "output_type": "execute_result"
    }
   ],
   "source": [
    "model.fit(X_train, y_train)"
   ]
  },
  {
   "cell_type": "code",
   "execution_count": 12,
   "metadata": {
    "executionInfo": {
     "elapsed": 367,
     "status": "ok",
     "timestamp": 1655895034816,
     "user": {
      "displayName": "Abhinav Tripathi",
      "userId": "10919703484646172246"
     },
     "user_tz": -330
    },
    "id": "8bvikJCWBqeu"
   },
   "outputs": [],
   "source": [
    "y_predicted = model.predict(X_test)"
   ]
  },
  {
   "cell_type": "code",
   "execution_count": 13,
   "metadata": {
    "colab": {
     "base_uri": "https://localhost:8080/"
    },
    "executionInfo": {
     "elapsed": 387,
     "status": "ok",
     "timestamp": 1655895037152,
     "user": {
      "displayName": "Abhinav Tripathi",
      "userId": "10919703484646172246"
     },
     "user_tz": -330
    },
    "id": "YzFuIf7JBql9",
    "outputId": "64d90d64-bd71-4112-ce40-d2dcca4f78fa"
   },
   "outputs": [
    {
     "name": "stdout",
     "output_type": "stream",
     "text": [
      "[ 0.45581866  0.10774302  0.21937345  0.64694447  0.31489134  0.35662979\n",
      "  0.72453505  0.62008927  0.63809645  0.96664509  0.87657346  0.01138905\n",
      "  0.38352221  0.00144937  0.1895829   0.26266408  0.38717482 -0.07654784\n",
      "  0.69233874  0.57645068  0.34809617  0.27663743  0.50147047  0.31444799\n",
      "  0.19345147  0.39844473  0.48473175  0.21423393  0.03725726  0.54751879\n",
      "  0.49836307  0.56977246  0.45988096  0.08845601  0.03943204  0.80165241\n",
      "  0.69628902  0.09196628  0.42610256  0.43144194  0.27850545  1.10270835\n",
      "  0.55607686  0.29032667  0.19879246  0.23148737  0.1762139   0.46525554\n",
      "  0.4281319   0.38081484  0.12400263  0.35769293  0.33596084 -0.02705524\n",
      "  0.66255007 -0.19956144  0.23366796  0.33440741  0.35314376  0.20511403\n",
      "  0.24498786  0.23589931 -0.06014772  0.24153315  0.12532978  0.6893056\n",
      "  0.11793811  0.55823312  0.78521574  0.39398906  0.40109036  0.12594286\n",
      "  0.51716379  0.21739954  0.11404638  0.81035043  0.25932086  0.46006228\n",
      "  0.29811876  0.15857291  0.32381159  0.43553158  0.82900227  0.18786711\n",
      "  0.29848002  0.65336379  0.41411286  0.30397759  0.87667046 -0.082839\n",
      "  0.10370883  0.35980522  0.20479193  0.27218709  1.06572315  0.49670262\n",
      "  0.24054825  0.93469485  0.50170244  0.40209914  0.67604351  0.98429142\n",
      "  0.36549476  0.57361533  0.19768312  0.64840364  0.50577021  0.65096507\n",
      "  0.0579203   0.16664096  0.061883    0.45794827  0.37782256  0.30470182\n",
      "  0.03536247  0.13482796  0.39460817  0.07235283  0.13564631  0.36321022\n",
      "  0.2962323   0.5420795   0.33663001  0.3395834   0.13961246  0.81283219\n",
      "  0.4149118   0.67477728  0.19818447  0.04888251  0.08108639  0.00749175\n",
      "  0.04890252  0.2404217   0.24602132  0.35126037  0.41588046  0.15744928\n",
      "  0.77647102  0.94818025  0.69289855  1.06361105  0.93543388  0.48960796\n",
      "  0.66993061  0.6008526   0.75509213  0.12294699  0.10381154  0.23815379\n",
      "  0.82297712  0.61014586  0.00515216  0.59635743  0.88884449  0.45596324\n",
      "  0.29968067  0.0750858   1.14996404  0.07074826  0.74646901  0.60989323\n",
      "  0.09823149  0.26300128  0.16509937  0.1544837   0.68539625  0.07025503\n",
      "  0.32538028  0.09248201  0.77730069  0.15258566  0.75547856  0.23919305\n",
      "  0.88774749  0.77559077  0.05016446  0.33656165  0.13322039  0.4322967\n",
      "  0.63685371 -0.05729614 -0.08852054  0.57290495  0.14255507  0.22282205\n",
      "  0.00492782 -0.09125039  0.68590286  0.37307276  0.69464751  0.01356893\n",
      "  0.05712392 -0.2065941   0.55539725 -0.29013327  0.00883194  0.37885321\n",
      "  0.38204807 -0.06179476 -0.22828945  0.32447444  0.37908451  0.54888512\n",
      "  0.70733223  0.29692141  0.07130469  0.04082765  0.7209171   0.43680733\n",
      "  0.08986381  0.18898755 -0.00200943  0.09848436  0.37447674  0.49884726\n",
      "  0.97399076  0.16646442  0.09581148  1.05273439  1.17831334  0.70235318\n",
      "  0.1498657   0.55735539  0.03873323  0.05948909  0.46556151  0.08306478\n",
      "  0.55171495  0.21439779  0.71715522  0.51203912  0.64855697  0.49702133\n",
      "  0.11958488  0.32424236  0.67457753  0.75785033  0.25032961  0.28084432\n",
      "  0.17740804  0.31446364  0.37369219  0.68184541  0.70042097 -0.35303128\n",
      "  0.01669389  0.22129633  0.53698664  0.31034387  0.01262981 -0.04410238\n",
      "  0.22704438  0.99520596  0.41966999  0.07520338  0.35460724  0.43977732\n",
      "  0.78845363  0.6970615   0.63490572  0.42804397  0.19112557  0.22549734\n",
      "  0.09891426  0.89524291  0.72810605  0.72938117  0.41395887  0.35021352\n",
      "  0.56253099  0.23683661  0.4616101   0.78269794  0.18524394 -0.27091302\n",
      "  0.3745136   0.50578409  0.45895963  0.24417602  0.15133862  0.21293556\n",
      "  0.06307332  0.48653668  0.67840989  0.52670961  0.68747317  0.72862469\n",
      "  0.08546918  0.70484921  0.17625635  0.28122026  0.16086113 -0.1405829\n",
      "  0.294631    0.98005264  0.56794972  0.45272822  0.93985394  0.1473582\n",
      "  0.25002812  0.6650887   0.08218143  0.34470249  0.44590272  0.51089576\n",
      "  0.10568849  0.15696619  0.36443405  0.41683468  0.38131806  0.57272645\n",
      "  0.21119814  0.33132579  0.66333762  0.19107146  0.87355044  0.79654116\n",
      "  0.853913    0.95045079  0.25717013  0.58223079  0.61183536  0.14351465\n",
      "  0.26075159  0.12485669  0.14810127  0.47751476  0.31687318  0.57621907\n",
      "  0.34448774  0.45614504  0.15537244  0.11340908  0.47886891  0.40734817\n",
      "  0.28560392  0.21782462  0.80315923  0.43480889  0.4823893   0.44338661\n",
      "  0.24653645  0.30451208  0.80492984  0.40107635  0.1790924   0.19656984\n",
      "  0.46516447  0.86979843 -0.56312585  0.68669998  0.47538664  0.46030031\n",
      "  0.70467269 -0.02384244 -0.00390478 -0.09169971  0.74947804  0.59280666\n",
      "  1.00822399  0.58913401  0.16828575 -0.09714126  0.20282032  0.48495505\n",
      "  0.15881681  0.13923505  0.37048192  0.90910395  0.42112316  0.05868114\n",
      " -0.0349699   0.2189963   0.294744    0.20926506  0.42153002  0.76102178\n",
      "  0.14768143  0.31405338  0.27953349  1.03767338  0.05887702  0.14102438]\n"
     ]
    }
   ],
   "source": [
    "print(y_predicted)"
   ]
  },
  {
   "cell_type": "code",
   "execution_count": 14,
   "metadata": {
    "colab": {
     "base_uri": "https://localhost:8080/"
    },
    "executionInfo": {
     "elapsed": 602,
     "status": "ok",
     "timestamp": 1655895044251,
     "user": {
      "displayName": "Abhinav Tripathi",
      "userId": "10919703484646172246"
     },
     "user_tz": -330
    },
    "id": "Vs8vRQJSBxiv",
    "outputId": "7223276d-84a3-429e-dd62-01209aca2418"
   },
   "outputs": [
    {
     "data": {
      "text/plain": [
       "0.24227745472271"
      ]
     },
     "execution_count": 14,
     "metadata": {},
     "output_type": "execute_result"
    }
   ],
   "source": [
    "model.score(X_test,y_test)"
   ]
  },
  {
   "cell_type": "code",
   "execution_count": null,
   "metadata": {},
   "outputs": [],
   "source": []
  }
 ],
 "metadata": {
  "colab": {
   "authorship_tag": "ABX9TyNF0MijCDf+1HkmydSWMLnG",
   "collapsed_sections": [],
   "name": "diabetes.ipynb",
   "provenance": []
  },
  "kernelspec": {
   "display_name": "Python 3 (ipykernel)",
   "language": "python",
   "name": "python3"
  },
  "language_info": {
   "codemirror_mode": {
    "name": "ipython",
    "version": 3
   },
   "file_extension": ".py",
   "mimetype": "text/x-python",
   "name": "python",
   "nbconvert_exporter": "python",
   "pygments_lexer": "ipython3",
   "version": "3.10.4"
  },
  "vscode": {
   "interpreter": {
    "hash": "295f7ad9d8b6a574265e7ef2adc192f7851806130edd42137e75a49514fdb49c"
   }
  }
 },
 "nbformat": 4,
 "nbformat_minor": 1
}
