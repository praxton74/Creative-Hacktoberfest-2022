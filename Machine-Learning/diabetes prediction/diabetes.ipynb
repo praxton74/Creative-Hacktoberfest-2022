{
 "cells": [
  {
   "cell_type": "code",
   "execution_count": 1,
   "metadata": {
    "executionInfo": {
     "elapsed": 379,
     "status": "ok",
     "timestamp": 1655895020872,
     "user": {
      "displayName": "Abhinav Tripathi",
      "userId": "10919703484646172246"
     },
     "user_tz": -330
    },
    "id": "chAFUgztAw7o"
   },
   "outputs": [],
   "source": [
    "import pandas as pd\n",
    "from sklearn.model_selection import train_test_split"
   ]
  },
  {
   "cell_type": "code",
   "execution_count": 2,
   "metadata": {
    "colab": {
     "base_uri": "https://localhost:8080/",
     "height": 206
    },
    "executionInfo": {
     "elapsed": 424,
     "status": "ok",
     "timestamp": 1655895023642,
     "user": {
      "displayName": "Abhinav Tripathi",
      "userId": "10919703484646172246"
     },
     "user_tz": -330
    },
    "id": "bRMqEWx1BWt0",
    "outputId": "d5594593-d7f0-490a-9708-c977278ee1e7"
   },
   "outputs": [
    {
     "data": {
      "text/html": [
       "<div>\n",
       "<style scoped>\n",
       "    .dataframe tbody tr th:only-of-type {\n",
       "        vertical-align: middle;\n",
       "    }\n",
       "\n",
       "    .dataframe tbody tr th {\n",
       "        vertical-align: top;\n",
       "    }\n",
       "\n",
       "    .dataframe thead th {\n",
       "        text-align: right;\n",
       "    }\n",
       "</style>\n",
       "<table border=\"1\" class=\"dataframe\">\n",
       "  <thead>\n",
       "    <tr style=\"text-align: right;\">\n",
       "      <th></th>\n",
       "      <th>Pregnancies</th>\n",
       "      <th>Glucose</th>\n",
       "      <th>BloodPressure</th>\n",
       "      <th>SkinThickness</th>\n",
       "      <th>Insulin</th>\n",
       "      <th>BMI</th>\n",
       "      <th>DiabetesPedigreeFunction</th>\n",
       "      <th>Age</th>\n",
       "      <th>Outcome</th>\n",
       "    </tr>\n",
       "  </thead>\n",
       "  <tbody>\n",
       "    <tr>\n",
       "      <th>0</th>\n",
       "      <td>6</td>\n",
       "      <td>148</td>\n",
       "      <td>72</td>\n",
       "      <td>35</td>\n",
       "      <td>0</td>\n",
       "      <td>33.6</td>\n",
       "      <td>0.627</td>\n",
       "      <td>50</td>\n",
       "      <td>1</td>\n",
       "    </tr>\n",
       "    <tr>\n",
       "      <th>1</th>\n",
       "      <td>1</td>\n",
       "      <td>85</td>\n",
       "      <td>66</td>\n",
       "      <td>29</td>\n",
       "      <td>0</td>\n",
       "      <td>26.6</td>\n",
       "      <td>0.351</td>\n",
       "      <td>31</td>\n",
       "      <td>0</td>\n",
       "    </tr>\n",
       "    <tr>\n",
       "      <th>2</th>\n",
       "      <td>8</td>\n",
       "      <td>183</td>\n",
       "      <td>64</td>\n",
       "      <td>0</td>\n",
       "      <td>0</td>\n",
       "      <td>23.3</td>\n",
       "      <td>0.672</td>\n",
       "      <td>32</td>\n",
       "      <td>1</td>\n",
       "    </tr>\n",
       "    <tr>\n",
       "      <th>3</th>\n",
       "      <td>1</td>\n",
       "      <td>89</td>\n",
       "      <td>66</td>\n",
       "      <td>23</td>\n",
       "      <td>94</td>\n",
       "      <td>28.1</td>\n",
       "      <td>0.167</td>\n",
       "      <td>21</td>\n",
       "      <td>0</td>\n",
       "    </tr>\n",
       "    <tr>\n",
       "      <th>4</th>\n",
       "      <td>0</td>\n",
       "      <td>137</td>\n",
       "      <td>40</td>\n",
       "      <td>35</td>\n",
       "      <td>168</td>\n",
       "      <td>43.1</td>\n",
       "      <td>2.288</td>\n",
       "      <td>33</td>\n",
       "      <td>1</td>\n",
       "    </tr>\n",
       "  </tbody>\n",
       "</table>\n",
       "</div>"
      ],
      "text/plain": [
       "   Pregnancies  Glucose  BloodPressure  SkinThickness  Insulin   BMI  \\\n",
       "0            6      148             72             35        0  33.6   \n",
       "1            1       85             66             29        0  26.6   \n",
       "2            8      183             64              0        0  23.3   \n",
       "3            1       89             66             23       94  28.1   \n",
       "4            0      137             40             35      168  43.1   \n",
       "\n",
       "   DiabetesPedigreeFunction  Age  Outcome  \n",
       "0                     0.627   50        1  \n",
       "1                     0.351   31        0  \n",
       "2                     0.672   32        1  \n",
       "3                     0.167   21        0  \n",
       "4                     2.288   33        1  "
      ]
     },
     "execution_count": 2,
     "metadata": {},
     "output_type": "execute_result"
    }
   ],
   "source": [
    "df = pd.read_csv(\"diabetes.csv\")\n",
    "df.head()"
   ]
  },
  {
   "cell_type": "code",
   "execution_count": 3,
   "metadata": {
    "executionInfo": {
     "elapsed": 5,
     "status": "ok",
     "timestamp": 1655895025874,
     "user": {
      "displayName": "Abhinav Tripathi",
      "userId": "10919703484646172246"
     },
     "user_tz": -330
    },
    "id": "an0CWcpiBW9p"
   },
   "outputs": [],
   "source": [
    "feature_cols = ['Pregnancies', 'Glucose', 'BloodPressure', 'SkinThickness','Insulin','BMI','DiabetesPedigreeFunction','Age']\n",
    "X = df[feature_cols] # Features\n",
    "y = df.Outcome # Target variable"
   ]
  },
  {
   "cell_type": "code",
   "execution_count": 4,
   "metadata": {
    "executionInfo": {
     "elapsed": 5,
     "status": "ok",
     "timestamp": 1655895027636,
     "user": {
      "displayName": "Abhinav Tripathi",
      "userId": "10919703484646172246"
     },
     "user_tz": -330
    },
    "id": "G9aMKHJbBXHT"
   },
   "outputs": [],
   "source": [
    "X_train, X_test, y_train, y_test = train_test_split(X,y,train_size=0.5)"
   ]
  },
  {
   "cell_type": "code",
   "execution_count": 7,
   "metadata": {
    "executionInfo": {
     "elapsed": 7,
     "status": "ok",
     "timestamp": 1655895028810,
     "user": {
      "displayName": "Abhinav Tripathi",
      "userId": "10919703484646172246"
     },
     "user_tz": -330
    },
    "id": "Lw8uKXMTBj2g"
   },
   "outputs": [],
   "source": [
    "from sklearn.linear_model import LinearRegression\n",
    "model = LinearRegression()"
   ]
  },
  {
   "cell_type": "code",
   "execution_count": 8,
   "metadata": {
    "colab": {
     "base_uri": "https://localhost:8080/"
    },
    "executionInfo": {
     "elapsed": 10,
     "status": "ok",
     "timestamp": 1655895030910,
     "user": {
      "displayName": "Abhinav Tripathi",
      "userId": "10919703484646172246"
     },
     "user_tz": -330
    },
    "id": "rmApvQTbBj9k",
    "outputId": "c139576a-2216-4693-b61d-1587575c4b51"
   },
   "outputs": [
    {
     "data": {
      "text/html": [
       "<style>#sk-container-id-1 {color: black;background-color: white;}#sk-container-id-1 pre{padding: 0;}#sk-container-id-1 div.sk-toggleable {background-color: white;}#sk-container-id-1 label.sk-toggleable__label {cursor: pointer;display: block;width: 100%;margin-bottom: 0;padding: 0.3em;box-sizing: border-box;text-align: center;}#sk-container-id-1 label.sk-toggleable__label-arrow:before {content: \"▸\";float: left;margin-right: 0.25em;color: #696969;}#sk-container-id-1 label.sk-toggleable__label-arrow:hover:before {color: black;}#sk-container-id-1 div.sk-estimator:hover label.sk-toggleable__label-arrow:before {color: black;}#sk-container-id-1 div.sk-toggleable__content {max-height: 0;max-width: 0;overflow: hidden;text-align: left;background-color: #f0f8ff;}#sk-container-id-1 div.sk-toggleable__content pre {margin: 0.2em;color: black;border-radius: 0.25em;background-color: #f0f8ff;}#sk-container-id-1 input.sk-toggleable__control:checked~div.sk-toggleable__content {max-height: 200px;max-width: 100%;overflow: auto;}#sk-container-id-1 input.sk-toggleable__control:checked~label.sk-toggleable__label-arrow:before {content: \"▾\";}#sk-container-id-1 div.sk-estimator input.sk-toggleable__control:checked~label.sk-toggleable__label {background-color: #d4ebff;}#sk-container-id-1 div.sk-label input.sk-toggleable__control:checked~label.sk-toggleable__label {background-color: #d4ebff;}#sk-container-id-1 input.sk-hidden--visually {border: 0;clip: rect(1px 1px 1px 1px);clip: rect(1px, 1px, 1px, 1px);height: 1px;margin: -1px;overflow: hidden;padding: 0;position: absolute;width: 1px;}#sk-container-id-1 div.sk-estimator {font-family: monospace;background-color: #f0f8ff;border: 1px dotted black;border-radius: 0.25em;box-sizing: border-box;margin-bottom: 0.5em;}#sk-container-id-1 div.sk-estimator:hover {background-color: #d4ebff;}#sk-container-id-1 div.sk-parallel-item::after {content: \"\";width: 100%;border-bottom: 1px solid gray;flex-grow: 1;}#sk-container-id-1 div.sk-label:hover label.sk-toggleable__label {background-color: #d4ebff;}#sk-container-id-1 div.sk-serial::before {content: \"\";position: absolute;border-left: 1px solid gray;box-sizing: border-box;top: 0;bottom: 0;left: 50%;z-index: 0;}#sk-container-id-1 div.sk-serial {display: flex;flex-direction: column;align-items: center;background-color: white;padding-right: 0.2em;padding-left: 0.2em;position: relative;}#sk-container-id-1 div.sk-item {position: relative;z-index: 1;}#sk-container-id-1 div.sk-parallel {display: flex;align-items: stretch;justify-content: center;background-color: white;position: relative;}#sk-container-id-1 div.sk-item::before, #sk-container-id-1 div.sk-parallel-item::before {content: \"\";position: absolute;border-left: 1px solid gray;box-sizing: border-box;top: 0;bottom: 0;left: 50%;z-index: -1;}#sk-container-id-1 div.sk-parallel-item {display: flex;flex-direction: column;z-index: 1;position: relative;background-color: white;}#sk-container-id-1 div.sk-parallel-item:first-child::after {align-self: flex-end;width: 50%;}#sk-container-id-1 div.sk-parallel-item:last-child::after {align-self: flex-start;width: 50%;}#sk-container-id-1 div.sk-parallel-item:only-child::after {width: 0;}#sk-container-id-1 div.sk-dashed-wrapped {border: 1px dashed gray;margin: 0 0.4em 0.5em 0.4em;box-sizing: border-box;padding-bottom: 0.4em;background-color: white;}#sk-container-id-1 div.sk-label label {font-family: monospace;font-weight: bold;display: inline-block;line-height: 1.2em;}#sk-container-id-1 div.sk-label-container {text-align: center;}#sk-container-id-1 div.sk-container {/* jupyter's `normalize.less` sets `[hidden] { display: none; }` but bootstrap.min.css set `[hidden] { display: none !important; }` so we also need the `!important` here to be able to override the default hidden behavior on the sphinx rendered scikit-learn.org. See: https://github.com/scikit-learn/scikit-learn/issues/21755 */display: inline-block !important;position: relative;}#sk-container-id-1 div.sk-text-repr-fallback {display: none;}</style><div id=\"sk-container-id-1\" class=\"sk-top-container\"><div class=\"sk-text-repr-fallback\"><pre>LinearRegression()</pre><b>In a Jupyter environment, please rerun this cell to show the HTML representation or trust the notebook. <br />On GitHub, the HTML representation is unable to render, please try loading this page with nbviewer.org.</b></div><div class=\"sk-container\" hidden><div class=\"sk-item\"><div class=\"sk-estimator sk-toggleable\"><input class=\"sk-toggleable__control sk-hidden--visually\" id=\"sk-estimator-id-1\" type=\"checkbox\" checked><label for=\"sk-estimator-id-1\" class=\"sk-toggleable__label sk-toggleable__label-arrow\">LinearRegression</label><div class=\"sk-toggleable__content\"><pre>LinearRegression()</pre></div></div></div></div></div>"
      ],
      "text/plain": [
       "LinearRegression()"
      ]
     },
     "execution_count": 8,
     "metadata": {},
     "output_type": "execute_result"
    }
   ],
   "source": [
    "model.fit(X_train, y_train)"
   ]
  },
  {
   "cell_type": "code",
   "execution_count": 9,
   "metadata": {
    "executionInfo": {
     "elapsed": 367,
     "status": "ok",
     "timestamp": 1655895034816,
     "user": {
      "displayName": "Abhinav Tripathi",
      "userId": "10919703484646172246"
     },
     "user_tz": -330
    },
    "id": "8bvikJCWBqeu"
   },
   "outputs": [],
   "source": [
    "X_predicted = model.predict(X_test)"
   ]
  },
  {
   "cell_type": "code",
   "execution_count": 10,
   "metadata": {
    "colab": {
     "base_uri": "https://localhost:8080/"
    },
    "executionInfo": {
     "elapsed": 387,
     "status": "ok",
     "timestamp": 1655895037152,
     "user": {
      "displayName": "Abhinav Tripathi",
      "userId": "10919703484646172246"
     },
     "user_tz": -330
    },
    "id": "YzFuIf7JBql9",
    "outputId": "64d90d64-bd71-4112-ce40-d2dcca4f78fa"
   },
   "outputs": [
    {
     "name": "stdout",
     "output_type": "stream",
     "text": [
      "[ 0.31714703  0.56455152  0.31909778  0.77368299 -0.14601093  0.51870755\n",
      "  0.45333208  0.58246702  0.0887104   0.68246349  0.44430416  0.72399187\n",
      "  0.56253506  0.29978764  0.20648574  0.26459181  0.58954927  0.32978088\n",
      "  0.39304646  0.20446293  0.21791785  0.316381    0.66709828  0.30885647\n",
      "  0.40394855  0.1665411   0.04142936  0.31237324  0.3057329   0.47279131\n",
      "  0.54486982  0.78203127  0.15325852  0.04582365  0.36179703  0.18194589\n",
      "  0.53332077  0.13411644  0.86840519  0.73958089  0.39141757  0.32715618\n",
      "  0.64749256 -0.1145752   0.14598111  0.46684736  0.17122834  0.29374189\n",
      "  0.30220364  0.53943892  0.50091803  0.28798261  0.46202832  0.80228522\n",
      "  0.62500446  0.43204975  0.78310934  0.15728726  0.83027293  0.49246286\n",
      "  0.70271004  0.20993284  0.11174317  0.31952338  0.88622059  0.38909396\n",
      "  0.40995168  0.78910868  0.9327016   0.20935214  0.25196581  0.41602386\n",
      "  0.19189956  0.1769093   0.10738519  0.331504    0.13391241  0.31530475\n",
      "  0.42633208  0.23717744  0.1662829   0.18974552  0.93668811  0.33500936\n",
      "  0.33979083  0.09238161  0.82760762  0.66439227  0.09543728  0.02736457\n",
      "  0.40299429  0.04676198  0.41665417 -0.12612912  0.21358066  0.63791182\n",
      "  0.29279275  0.2898453   0.43336673  0.20517869  0.31320299  0.37303713\n",
      "  0.47706821  0.2364305   0.32231063 -0.00170998  0.28371812  0.24323154\n",
      "  0.20125801  0.38059209  0.35455097  0.410042    0.03966156  0.25981306\n",
      "  0.31948298  0.67432184  0.47646899  0.3348181   0.35472287  0.43874531\n",
      "  0.55879349  0.04174036  0.44125497  0.22166466  0.83131064  0.19378992\n",
      "  0.55375122  0.04480447  0.43488216 -0.31494323  0.05835644  0.57101925\n",
      "  0.17241311  0.55591804  0.5188072   0.61188367  0.14809335  0.48143336\n",
      "  0.84867015  0.41899586  0.62469695  0.32584571  0.43895804  0.37870255\n",
      "  0.20263857  0.84515349  0.6001913   0.24803362  0.69004635  0.13486039\n",
      "  0.05303604  0.27042858  0.03964406  0.03576309  0.67406115  0.06305401\n",
      "  0.38383913  0.04607453  0.32538524  0.48719127  0.32829627  0.22181521\n",
      "  0.21350534  0.29588801  0.27750499  0.36778329  0.48134865  0.02792462\n",
      "  0.36758513  0.12555568  0.15451458  0.38787857 -0.22047862 -0.15279957\n",
      "  0.30507268  0.63470032  0.26498556  0.33686645  0.80980631  0.39487302\n",
      "  0.04234707  0.38373182  0.69062467  0.81628589  0.28030599  0.35223781\n",
      "  0.58459769  0.28147154  0.00829402  0.15375634  0.44226183  0.15796054\n",
      "  0.67099608  0.61978309  0.16295431  0.04579544  0.44853993  0.25131592\n",
      "  0.0256565   0.39990168  0.47196267  0.31342111  0.68626711  0.2445493\n",
      " -0.0231441   0.28178301  0.38933686  0.10568387  0.71399227  0.90603945\n",
      "  0.28729005  0.7086701   0.09774737  0.32290768  0.71319917  0.83792725\n",
      "  0.39979091  0.11050186  0.67277877  0.07503461  0.5027144   0.29621304\n",
      "  0.24214633  0.57944866  0.65418448  0.3072901   0.83074672  0.23413842\n",
      "  0.18300601  0.2848405   0.2752526   0.00585875  0.69979165  0.13002876\n",
      "  0.26756368  0.26735824  0.37488911  0.4765582   0.85788986  0.54513198\n",
      "  0.30624629  0.43793096  0.36750488  0.35808104  0.39583796  0.30039185\n",
      "  0.57917601  0.15820813  0.41250114  0.49173062  0.42323759  0.29646387\n",
      "  0.37082759  0.09871099  0.10021755  0.23133836  0.35848906  0.26456182\n",
      "  0.13717858  0.20637036  0.29693948  0.17772771  0.17144294  0.56884934\n",
      "  0.21231337  0.72986757  0.81666508  0.37568213  0.38264792  0.10270332\n",
      "  0.39803066  0.1955735   0.60085716  0.2503528   0.22232446  0.71393997\n",
      "  0.06365064  0.17885056  0.29111189  0.37214822  0.63188477  0.19508327\n",
      "  0.07074253  0.85392162  0.74664297  0.46245263  0.5198819   0.35571721\n",
      "  0.08523841  0.22458753  0.30354486  0.25684192  0.55501122  0.35627652\n",
      "  0.66272571  0.48396081  0.31722705 -0.01505968  0.45207608  0.46615901\n",
      "  0.07857491  0.29420127  0.22184639  0.10620163 -0.13361146  0.35068533\n",
      "  0.11624764  0.32332569  0.31447193  0.00661366  0.59018385  0.91042107\n",
      "  0.37270948  0.20569026  0.08985677  0.11419995  0.45868993  0.66710138\n",
      "  0.81987324  0.1973979  -0.38959191  0.3407166   0.01059551  0.63308646\n",
      "  0.69024445  0.50000191  0.47975293  0.25177535  0.01226491  0.40517517\n",
      " -0.2472249   0.12939093  0.64430732  0.06767229  0.53297275  0.10940128\n",
      "  0.30299066  0.5027301   0.3539358   0.60129042  0.62899914  0.33122511\n",
      "  0.58786859  0.6986681   0.23371325  0.11744747  0.13907281  0.35197346\n",
      "  0.39779244  0.09577152  0.29516564  0.44881028  0.11151787  0.70486935\n",
      "  0.10162289  0.49733648  0.08343988  0.19887152  0.56499811  0.87752404\n",
      "  0.65995995  0.25879118  0.47368502  0.60643931  0.7583638   0.57743451\n",
      "  0.73061207  0.57500098  0.2353181   0.29793554  0.26288888  0.60372034\n",
      "  0.16134488  0.44389747  0.20756436  0.34558243  0.73717855  0.27111881\n",
      "  0.13357941  0.26203098  0.58072138  0.46563449  0.17008182  0.18521494]\n"
     ]
    }
   ],
   "source": [
    "print(X_predicted)"
   ]
  },
  {
   "cell_type": "code",
   "execution_count": 11,
   "metadata": {
    "colab": {
     "base_uri": "https://localhost:8080/"
    },
    "executionInfo": {
     "elapsed": 602,
     "status": "ok",
     "timestamp": 1655895044251,
     "user": {
      "displayName": "Abhinav Tripathi",
      "userId": "10919703484646172246"
     },
     "user_tz": -330
    },
    "id": "Vs8vRQJSBxiv",
    "outputId": "7223276d-84a3-429e-dd62-01209aca2418"
   },
   "outputs": [
    {
     "data": {
      "text/plain": [
       "0.27416137435144783"
      ]
     },
     "execution_count": 11,
     "metadata": {},
     "output_type": "execute_result"
    }
   ],
   "source": [
    "model.score(X_test,y_test)"
   ]
  },
  {
   "cell_type": "code",
   "execution_count": null,
   "metadata": {},
   "outputs": [],
   "source": []
  }
 ],
 "metadata": {
  "colab": {
   "authorship_tag": "ABX9TyNF0MijCDf+1HkmydSWMLnG",
   "collapsed_sections": [],
   "name": "diabetes.ipynb",
   "provenance": []
  },
  "kernelspec": {
   "display_name": "Python 3.10.4 64-bit",
   "language": "python",
   "name": "python3"
  },
  "language_info": {
   "codemirror_mode": {
    "name": "ipython",
    "version": 3
   },
   "file_extension": ".py",
   "mimetype": "text/x-python",
   "name": "python",
   "nbconvert_exporter": "python",
   "pygments_lexer": "ipython3",
   "version": "3.10.4"
  },
  "vscode": {
   "interpreter": {
    "hash": "369f2c481f4da34e4445cda3fffd2e751bd1c4d706f27375911949ba6bb62e1c"
   }
  }
 },
 "nbformat": 4,
 "nbformat_minor": 1
}
